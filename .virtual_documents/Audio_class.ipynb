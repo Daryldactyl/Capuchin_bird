%pip install tensorflow tensorflow_io matplotlib


!pip list


import os
import matplotlib.pyplot as plt
import tensorflow as tf
import tensorflow.io as tfio


tfio.__version__


CAPUCHIN_FILE = os.path.join('data', 'Parsed_Capuchinbird_Clips', 'XC3776-3.wav')
NOT_CAPUCHIN_FILE = os.path.join('data', 'Parsed_Not_Capuchinbird_Clips', 'afternoon-birds-song-in-forest-0.wav')





file_contents = tf.io.read_file(CAPUCHIN_FILE)
wav, sample_rate = tf.audio.decode_wav(file_contents, desired_channels=1)
sample_rate





wav.shape


wav = tfio.audio.resample(wav, rate_in=sample_rate, rate_out=16000)
wav


def load_wav_16k_mono(filename):
    #Load wav file
    file_contents = tf.io.read_file(filename)

    #Decode wav to tensors
    wav, sample_rate = tf.audio.decode_wav(file_contents, desired_channels=1) #the channels to one will make the audio mono so it will be easier to process

    #Remove trailing axis
    wav = tf.squeeze(wav, axis=-1)
    sample_rate = tf.cast(sample_rate, dtype=tf.int64) #put sample rate in format to be resampled

    #Goes from 44100Hz to 16000hz for proper formatting
    wav = tfio.audio.resample(wav, rate_in=sample_rate, rate_out=16000)
    return wav



